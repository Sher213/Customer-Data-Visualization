{
 "cells": [
  {
   "cell_type": "code",
   "execution_count": 9,
   "metadata": {},
   "outputs": [
    {
     "name": "stdout",
     "output_type": "stream",
     "text": [
      "     ID  Year_Birth   Education Marital_Status   Income  Kidhome  Teenhome  \\\n",
      "0  5524        1957  Graduation         Single  58138.0        0         0   \n",
      "1  2174        1954  Graduation         Single  46344.0        1         1   \n",
      "2  4141        1965  Graduation       Together  71613.0        0         0   \n",
      "3  6182        1984  Graduation       Together  26646.0        1         0   \n",
      "4  5324        1981         PhD        Married  58293.0        1         0   \n",
      "\n",
      "  Dt_Customer  Recency  MntWines  ...  NumWebVisitsMonth  AcceptedCmp3  \\\n",
      "0  04-09-2012       58       635  ...                  7             0   \n",
      "1  08-03-2014       38        11  ...                  5             0   \n",
      "2  21-08-2013       26       426  ...                  4             0   \n",
      "3  10-02-2014       26        11  ...                  6             0   \n",
      "4  19-01-2014       94       173  ...                  5             0   \n",
      "\n",
      "   AcceptedCmp4  AcceptedCmp5  AcceptedCmp1  AcceptedCmp2  Complain  \\\n",
      "0             0             0             0             0         0   \n",
      "1             0             0             0             0         0   \n",
      "2             0             0             0             0         0   \n",
      "3             0             0             0             0         0   \n",
      "4             0             0             0             0         0   \n",
      "\n",
      "   Z_CostContact  Z_Revenue  Response  \n",
      "0              3         11         1  \n",
      "1              3         11         0  \n",
      "2              3         11         0  \n",
      "3              3         11         0  \n",
      "4              3         11         0  \n",
      "\n",
      "[5 rows x 29 columns]\n"
     ]
    }
   ],
   "source": [
    "import pandas as pd\n",
    "\n",
    "#fix \\t seperator to , seperator\n",
    "text = open(\"marketing_campaign.csv\", \"r\")\n",
    "text = ''.join([i for i in text]) \\\n",
    "    .replace(\"\\t\", \",\")\n",
    "x = open(\"marketing_campaign_commas.csv\",\"w\")\n",
    "x.writelines(text)\n",
    "x.close()\n",
    "\n",
    "#accept data and print\n",
    "data = pd.read_csv(\"marketing_campaign_commas.csv\")\n",
    "print(data.head())"
   ]
  },
  {
   "cell_type": "code",
   "execution_count": 10,
   "metadata": {},
   "outputs": [
    {
     "name": "stdout",
     "output_type": "stream",
     "text": [
      "<class 'pandas.core.frame.DataFrame'>\n",
      "RangeIndex: 2240 entries, 0 to 2239\n",
      "Data columns (total 29 columns):\n",
      "ID                     2240 non-null int64\n",
      "Year_Birth             2240 non-null int64\n",
      "Education              2240 non-null object\n",
      "Marital_Status         2240 non-null object\n",
      "Income                 2216 non-null float64\n",
      "Kidhome                2240 non-null int64\n",
      "Teenhome               2240 non-null int64\n",
      "Dt_Customer            2240 non-null object\n",
      "Recency                2240 non-null int64\n",
      "MntWines               2240 non-null int64\n",
      "MntFruits              2240 non-null int64\n",
      "MntMeatProducts        2240 non-null int64\n",
      "MntFishProducts        2240 non-null int64\n",
      "MntSweetProducts       2240 non-null int64\n",
      "MntGoldProds           2240 non-null int64\n",
      "NumDealsPurchases      2240 non-null int64\n",
      "NumWebPurchases        2240 non-null int64\n",
      "NumCatalogPurchases    2240 non-null int64\n",
      "NumStorePurchases      2240 non-null int64\n",
      "NumWebVisitsMonth      2240 non-null int64\n",
      "AcceptedCmp3           2240 non-null int64\n",
      "AcceptedCmp4           2240 non-null int64\n",
      "AcceptedCmp5           2240 non-null int64\n",
      "AcceptedCmp1           2240 non-null int64\n",
      "AcceptedCmp2           2240 non-null int64\n",
      "Complain               2240 non-null int64\n",
      "Z_CostContact          2240 non-null int64\n",
      "Z_Revenue              2240 non-null int64\n",
      "Response               2240 non-null int64\n",
      "dtypes: float64(1), int64(25), object(3)\n",
      "memory usage: 507.6+ KB\n",
      "None\n"
     ]
    }
   ],
   "source": [
    "#look for null values\n",
    "print(data.info())"
   ]
  },
  {
   "cell_type": "code",
   "execution_count": 11,
   "metadata": {
    "scrolled": false
   },
   "outputs": [
    {
     "name": "stdout",
     "output_type": "stream",
     "text": [
      "Married     864\n",
      "Together    580\n",
      "Single      480\n",
      "Divorced    232\n",
      "Widow        77\n",
      "Name: Marital_Status, dtype: int64\n",
      "<class 'pandas.core.frame.DataFrame'>\n",
      "Int64Index: 2209 entries, 0 to 2239\n",
      "Data columns (total 29 columns):\n",
      "ID                     2209 non-null int64\n",
      "Year_Birth             2209 non-null int64\n",
      "Education              2209 non-null object\n",
      "Marital_Status         2209 non-null int64\n",
      "Income                 2209 non-null float64\n",
      "Kidhome                2209 non-null int64\n",
      "Teenhome               2209 non-null int64\n",
      "Dt_Customer            2209 non-null datetime64[ns]\n",
      "Recency                2209 non-null int64\n",
      "MntWines               2209 non-null int64\n",
      "MntFruits              2209 non-null int64\n",
      "MntMeatProducts        2209 non-null int64\n",
      "MntFishProducts        2209 non-null int64\n",
      "MntSweetProducts       2209 non-null int64\n",
      "MntGoldProds           2209 non-null int64\n",
      "NumDealsPurchases      2209 non-null int64\n",
      "NumWebPurchases        2209 non-null int64\n",
      "NumCatalogPurchases    2209 non-null int64\n",
      "NumStorePurchases      2209 non-null int64\n",
      "NumWebVisitsMonth      2209 non-null int64\n",
      "AcceptedCmp3           2209 non-null int64\n",
      "AcceptedCmp4           2209 non-null int64\n",
      "AcceptedCmp5           2209 non-null int64\n",
      "AcceptedCmp1           2209 non-null int64\n",
      "AcceptedCmp2           2209 non-null int64\n",
      "Complain               2209 non-null int64\n",
      "Z_CostContact          2209 non-null int64\n",
      "Z_Revenue              2209 non-null int64\n",
      "Response               2209 non-null int64\n",
      "dtypes: datetime64[ns](1), float64(1), int64(26), object(1)\n",
      "memory usage: 517.7+ KB\n",
      "None\n"
     ]
    }
   ],
   "source": [
    "#turn unusable values in NA\n",
    "data = data.drop(data[((data['Marital_Status'] != 'Single')\n",
    "                        & (data['Marital_Status'] != 'Married')\n",
    "                        & (data['Marital_Status'] != 'Together')\n",
    "                        & (data['Marital_Status'] != 'Divorced')\n",
    "                        & (data['Marital_Status'] != 'Widow'))].index)\n",
    "\n",
    "print(data['Marital_Status'].value_counts())\n",
    "#drop rows w/ NA\n",
    "data = data.dropna()\n",
    "\n",
    "#Change string values into integer\n",
    "data['Marital_Status'] = data['Marital_Status'].replace('Single', 0)\n",
    "data['Marital_Status'] = data['Marital_Status'].replace('Married', 1)\n",
    "data['Marital_Status'] = data['Marital_Status'].replace('Together', 2)\n",
    "data['Marital_Status'] = data['Marital_Status'].replace('Divorced', 3)\n",
    "data['Marital_Status'] = data['Marital_Status'].replace('Widow', 4)\n",
    "\n",
    "#change Dt_Customer to DateTime\n",
    "data['Dt_Customer'] = pd.to_datetime(data['Dt_Customer'])\n",
    "\n",
    "print(data.info())"
   ]
  },
  {
   "cell_type": "code",
   "execution_count": 12,
   "metadata": {},
   "outputs": [
    {
     "data": {
      "image/png": "[encoded data removed]",
      "text/plain": [
       "<Figure size 432x288 with 1 Axes>"
      ]
     },
     "metadata": {},
     "output_type": "display_data"
    }
   ],
   "source": [
    "import matplotlib.pyplot as plt\n",
    "import numpy as np\n",
    "\n",
    "#pie chart for education values\n",
    "y = data[\"Education\"].value_counts()\n",
    "myLabels = y.index\n",
    "plt.pie(y, labels = myLabels)\n",
    "plt.show()"
   ]
  },
  {
   "cell_type": "code",
   "execution_count": 13,
   "metadata": {},
   "outputs": [
    {
     "data": {
      "image/png": "[encoded data removed]",
      "text/plain": [
       "<Figure size 432x288 with 1 Axes>"
      ]
     },
     "metadata": {
      "needs_background": "light"
     },
     "output_type": "display_data"
    }
   ],
   "source": [
    "#remove outlier value\n",
    "data = data[data['Income'] <= 200000]\n",
    "\n",
    "y = data[\"Income\"]\n",
    "x = y.index\n",
    "plt.scatter(x, y)\n",
    "plt.show()"
   ]
  },
  {
   "cell_type": "code",
   "execution_count": 14,
   "metadata": {},
   "outputs": [
    {
     "name": "stdout",
     "output_type": "stream",
     "text": [
      "     ID  Year_Birth   Education  Marital_Status   Income  Kidhome  Teenhome  \\\n",
      "0  5524        1957  Graduation               0  58138.0        0         0   \n",
      "1  2174        1954  Graduation               0  46344.0        1         1   \n",
      "2  4141        1965  Graduation               2  71613.0        0         0   \n",
      "3  6182        1984  Graduation               2  26646.0        1         0   \n",
      "4  5324        1981         PhD               1  58293.0        1         0   \n",
      "\n",
      "  Dt_Customer  Recency  MntWines  ...  NumWebVisitsMonth  AcceptedCmp3  \\\n",
      "0  2012-04-09       58       635  ...                  7             0   \n",
      "1  2014-08-03       38        11  ...                  5             0   \n",
      "2  2013-08-21       26       426  ...                  4             0   \n",
      "3  2014-10-02       26        11  ...                  6             0   \n",
      "4  2014-01-19       94       173  ...                  5             0   \n",
      "\n",
      "   AcceptedCmp4  AcceptedCmp5  AcceptedCmp1  AcceptedCmp2  Complain  \\\n",
      "0             0             0             0             0         0   \n",
      "1             0             0             0             0         0   \n",
      "2             0             0             0             0         0   \n",
      "3             0             0             0             0         0   \n",
      "4             0             0             0             0         0   \n",
      "\n",
      "   Z_CostContact  Z_Revenue  Response  \n",
      "0              3         11         1  \n",
      "1              3         11         0  \n",
      "2              3         11         0  \n",
      "3              3         11         0  \n",
      "4              3         11         0  \n",
      "\n",
      "[5 rows x 29 columns]\n"
     ]
    },
    {
     "data": {
      "text/plain": [
       "array([66373., 82384., 70287., 27938., 55954.])"
      ]
     },
     "execution_count": 14,
     "metadata": {},
     "output_type": "execute_result"
    }
   ],
   "source": [
    "from sklearn.tree import DecisionTreeRegressor\n",
    "\n",
    "#Input and Output for model\n",
    "y = data.Income[50:]\n",
    "features = ['Marital_Status', 'Kidhome', 'Teenhome', 'MntWines',\n",
    "    'MntFruits', 'MntMeatProducts', 'MntFishProducts',\n",
    "    'MntSweetProducts', 'MntGoldProds']\n",
    "X = data[features][50:]\n",
    "#build model and run prediction\n",
    "model = DecisionTreeRegressor(random_state=1)\n",
    "model.fit(X, y)\n",
    "predicted_income = model.predict(X.head())\n",
    "predicted_income"
   ]
  },
  {
   "cell_type": "code",
   "execution_count": 7,
   "metadata": {},
   "outputs": [],
   "source": [
    "from sklearn.metrics import mean_absolute_error\n",
    "\n",
    "#mean_absolute_error(y[:5], predicted_income)"
   ]
  },
  {
   "cell_type": "code",
   "execution_count": null,
   "metadata": {},
   "outputs": [],
   "source": []
  }
 ],
 "metadata": {
  "kernelspec": {
   "display_name": "Python 3",
   "language": "python",
   "name": "python3"
  },
  "language_info": {
   "codemirror_mode": {
    "name": "ipython",
    "version": 3
   },
   "file_extension": ".py",
   "mimetype": "text/x-python",
   "name": "python",
   "nbconvert_exporter": "python",
   "pygments_lexer": "ipython3",
   "version": "3.7.3"
  }
 },
 "nbformat": 4,
 "nbformat_minor": 2
}
